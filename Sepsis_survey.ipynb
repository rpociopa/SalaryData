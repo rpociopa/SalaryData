{
  "metadata": {
    "language_info": {
      "codemirror_mode": {
        "name": "python",
        "version": 3
      },
      "file_extension": ".py",
      "mimetype": "text/x-python",
      "name": "python",
      "nbconvert_exporter": "python",
      "pygments_lexer": "ipython3",
      "version": "3.8"
    },
    "kernelspec": {
      "name": "python",
      "display_name": "Python (Pyodide)",
      "language": "python"
    }
  },
  "nbformat_minor": 4,
  "nbformat": 4,
  "cells": [
    {
      "cell_type": "code",
      "source": "# Install Heatmap package\n%pip install seaborn",
      "metadata": {
        "trusted": true
      },
      "execution_count": 1,
      "outputs": []
    },
    {
      "cell_type": "code",
      "source": "# Import relevant packages\nimport numpy as np\nimport pandas as pd\nimport seaborn as sns",
      "metadata": {
        "trusted": true
      },
      "execution_count": null,
      "outputs": []
    },
    {
      "cell_type": "code",
      "source": "df = pd.read_csv('sepsis_survey.csv')",
      "metadata": {},
      "execution_count": null,
      "outputs": []
    },
    {
      "cell_type": "code",
      "source": "# Examine dataset 1: Ask for # of rows and columns\ndf.shape",
      "metadata": {},
      "execution_count": null,
      "outputs": []
    },
    {
      "cell_type": "code",
      "source": "# Examine dataset 2: List column names\ndf.columns",
      "metadata": {},
      "execution_count": null,
      "outputs": []
    },
    {
      "cell_type": "code",
      "source": "# Examine dataset 3: List first 3 rows\ndf.head(3)",
      "metadata": {},
      "execution_count": null,
      "outputs": []
    },
    {
      "cell_type": "code",
      "source": "# Examine dataset 4: Basic info for all columns\ndf.info",
      "metadata": {},
      "execution_count": null,
      "outputs": []
    },
    {
      "cell_type": "code",
      "source": "# Examine dataset 5: Basic statistics\ndf.describe(),T",
      "metadata": {},
      "execution_count": null,
      "outputs": []
    },
    {
      "cell_type": "code",
      "source": "# Examine dataset 6: Bring in matplotlib\nimport matplotlib.pyplot as plt\n%matplotlib inline",
      "metadata": {},
      "execution_count": null,
      "outputs": []
    },
    {
      "cell_type": "code",
      "source": "# Examine Dataset 7: Histograms for all columns\nfig = plt.figure(figsize = (15,15))\nax = fig.gca()\ng = df.hist(ax=ax)",
      "metadata": {},
      "execution_count": null,
      "outputs": []
    },
    {
      "cell_type": "code",
      "source": "# Apply heatmap to look at possible correlations\ncorr_matrix = df.corr()\ntop_corr_features = corr_matrix.index\nplt.figure(figsize = (20,20))\nsns.heatmap(data=df[top_corr_features].corr(), annot = True, cmap='RdYlGn')",
      "metadata": {},
      "execution_count": null,
      "outputs": []
    }
  ]
}